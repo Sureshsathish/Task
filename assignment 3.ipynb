{
  "nbformat": 4,
  "nbformat_minor": 0,
  "metadata": {
    "colab": {
      "provenance": []
    },
    "kernelspec": {
      "name": "python3",
      "display_name": "Python 3"
    },
    "language_info": {
      "name": "python"
    }
  },
  "cells": [
    {
      "cell_type": "code",
      "execution_count": 1,
      "metadata": {
        "colab": {
          "base_uri": "https://localhost:8080/"
        },
        "id": "nY2L9hIXvYtF",
        "outputId": "94a00397-6eb5-40c9-e4cc-e6ebe30539bb"
      },
      "outputs": [
        {
          "output_type": "stream",
          "name": "stdout",
          "text": [
            "100\n"
          ]
        }
      ],
      "source": [
        "numbers =[10,20,30,40]\n",
        "total=0\n",
        "for num in numbers:\n",
        "    total+=num\n",
        "print(total)"
      ]
    },
    {
      "cell_type": "code",
      "source": [
        "#A dictionary comprehension is a concise way to create dictionaries in Python. It consists of an expression followed by a for clause"
      ],
      "metadata": {
        "id": "8LmlDTJUwVxm"
      },
      "execution_count": null,
      "outputs": []
    },
    {
      "cell_type": "code",
      "source": [
        "\n",
        "num = int(input(\"Enter a number: \"))\n",
        "is_prime = True\n",
        "if num <= 1:\n",
        "    is_prime = False\n",
        "else:\n",
        "    for i in range(2, int(num ** 0.5) + 1):\n",
        "        if num % i == 0:\n",
        "            is_prime = False\n",
        "            break\n",
        "if is_prime:\n",
        "    print(num, \"is a prime number.\")\n",
        "else:\n",
        "    print(num, \"is not a prime number.\")\n"
      ],
      "metadata": {
        "id": "EmqIzypww70M"
      },
      "execution_count": null,
      "outputs": []
    },
    {
      "cell_type": "code",
      "source": [
        "a = int(input(\"enter a number:\"))\n",
        "b = int(input(\"enter a number:\"))\n",
        "try:\n",
        "  print(\"result:\"), a/b)\n",
        "except zerodivisionerror:\n",
        "  print(\"division by zero not allowed\")\n"
      ],
      "metadata": {
        "id": "kkucW_j_1TEU"
      },
      "execution_count": null,
      "outputs": []
    },
    {
      "cell_type": "code",
      "source": [
        "#The if __name__ == \"__main__\": block in Python is a common construct that allows you to write code that should only be executed when the script is run directly"
      ],
      "metadata": {
        "id": "C0g0Kuws5wTt"
      },
      "execution_count": null,
      "outputs": []
    }
  ]
}