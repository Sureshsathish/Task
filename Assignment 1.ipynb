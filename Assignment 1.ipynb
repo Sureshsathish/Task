{
  "nbformat": 4,
  "nbformat_minor": 0,
  "metadata": {
    "colab": {
      "provenance": []
    },
    "kernelspec": {
      "name": "python3",
      "display_name": "Python 3"
    },
    "language_info": {
      "name": "python"
    }
  },
  "cells": [
    {
      "cell_type": "code",
      "execution_count": 1,
      "metadata": {
        "colab": {
          "base_uri": "https://localhost:8080/"
        },
        "id": "BmuenqnSWdpe",
        "outputId": "be259315-663b-4885-d0a1-c1265dc91141"
      },
      "outputs": [
        {
          "output_type": "stream",
          "name": "stdout",
          "text": [
            "yes\n"
          ]
        }
      ],
      "source": [
        "s = \"MoM\"\n",
        "if s == s[::-1]:\n",
        "  print(\"yes\")\n",
        "else:\n",
        "  print(\"no\")"
      ]
    },
    {
      "cell_type": "code",
      "source": [
        "#List it is a mutable and it allows duplicates.\n",
        "#Tuple it is immutable and it allows a duplicate values.\n"
      ],
      "metadata": {
        "id": "KV6nP-FDWxF_"
      },
      "execution_count": null,
      "outputs": []
    },
    {
      "cell_type": "code",
      "source": [
        "keys = ['a','b','c']\n",
        "values = [1,2,3]\n",
        "my_dict = dict(zip(keys,values))\n",
        "print(my_dict)"
      ],
      "metadata": {
        "id": "f4fdxmmPW06l"
      },
      "execution_count": null,
      "outputs": []
    },
    {
      "cell_type": "code",
      "source": [
        "count = 0\n",
        "for line in open('filename.txt'):\n",
        "  if 'python' in line.lower():\n",
        "    count+=1\n",
        "print(count)"
      ],
      "metadata": {
        "id": "2ywEHePiW5OD"
      },
      "execution_count": null,
      "outputs": []
    },
    {
      "cell_type": "code",
      "source": [
        "#  squares = [x**2 for x in range(10) if x%2==0]\n",
        "#In this sinario first it will pick all the even numbers and it will square it."
      ],
      "metadata": {
        "id": "Oo_hsN8zW9kd"
      },
      "execution_count": null,
      "outputs": []
    }
  ]
}