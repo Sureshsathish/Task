{
  "nbformat": 4,
  "nbformat_minor": 0,
  "metadata": {
    "colab": {
      "provenance": []
    },
    "kernelspec": {
      "name": "python3",
      "display_name": "Python 3"
    },
    "language_info": {
      "name": "python"
    }
  },
  "cells": [
    {
      "cell_type": "code",
      "execution_count": 2,
      "metadata": {
        "colab": {
          "base_uri": "https://localhost:8080/"
        },
        "id": "-m-RdGQ3YtoI",
        "outputId": "4a855e6b-540e-45fa-8178-44f880b5fffe"
      },
      "outputs": [
        {
          "output_type": "stream",
          "name": "stdout",
          "text": [
            "Enter a number:6\n",
            "720\n"
          ]
        }
      ],
      "source": [
        "def factorial(n):\n",
        "  if n == 0:\n",
        "      return 1\n",
        "  else:\n",
        "    return n * factorial(n-1)\n",
        "n=int(input(\"Enter a number:\"))\n",
        "print(factorial(n))\n"
      ]
    },
    {
      "cell_type": "code",
      "source": [
        "# Append it is used to add a value in a list\n",
        "# Extend it is used to unpair the list and it will keep the value in seperate list"
      ],
      "metadata": {
        "id": "YpIs8iVIboR1"
      },
      "execution_count": null,
      "outputs": []
    },
    {
      "cell_type": "code",
      "source": [
        "a =[1,2,3,4,2,1]\n",
        "unique_element_set = set(a)\n",
        "unique_element_list = list(unique_element_set)\n",
        "print(unique_element_list)"
      ],
      "metadata": {
        "colab": {
          "base_uri": "https://localhost:8080/"
        },
        "id": "ahZ8iZU1d8Ai",
        "outputId": "829a4a53-6a2a-422f-bcea-bb9a7c552f73"
      },
      "execution_count": 3,
      "outputs": [
        {
          "output_type": "stream",
          "name": "stdout",
          "text": [
            "[1, 2, 3, 4]\n"
          ]
        }
      ]
    },
    {
      "cell_type": "code",
      "source": [
        "import json\n",
        "with open('d.json','r')as file:\n",
        "  d=json.load(file)\n",
        "print(d)"
      ],
      "metadata": {
        "id": "e_27cMc9jM_a"
      },
      "execution_count": null,
      "outputs": []
    },
    {
      "cell_type": "code",
      "source": [
        "[1,2,3,4]"
      ],
      "metadata": {
        "id": "2rDysUAjj4Ar"
      },
      "execution_count": null,
      "outputs": []
    }
  ]
}